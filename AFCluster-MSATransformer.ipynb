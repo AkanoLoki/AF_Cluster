{
  "cells": [
    {
      "cell_type": "markdown",
      "metadata": {
        "id": "U0ukYqqzateL"
      },
      "source": [
        "## Setup (Colab)\n",
        "\n",
        "If in colab, you will need to install these dependencies, download this data, and the model weights. If you are not in colab, you may have some of these already installed, or may need to install other dependencies (e.g. pytorch).\n",
        "\n",
        "At the moment, every block in this section is commented out. Uncomment in order to run in colab and install/download."
      ]
    },
    {
      "cell_type": "markdown",
      "metadata": {
        "id": "IiB2IaU6QyF9"
      },
      "source": [
        "### Install dependencies"
      ]
    },
    {
      "cell_type": "code",
      "execution_count": 2,
      "metadata": {
        "colab": {
          "base_uri": "https://localhost:8080/",
          "height": 0
        },
        "id": "I2MLDXLJQmnB",
        "outputId": "83c28ce1-1895-410b-bb97-bbb0079d5e52"
      },
      "outputs": [
        {
          "output_type": "stream",
          "name": "stdout",
          "text": [
            "Requirement already satisfied: biopython in /usr/local/lib/python3.10/dist-packages (1.81)\n",
            "Requirement already satisfied: biotite in /usr/local/lib/python3.10/dist-packages (0.37.0)\n",
            "Requirement already satisfied: numpy in /usr/local/lib/python3.10/dist-packages (from biopython) (1.22.4)\n",
            "Requirement already satisfied: requests>=2.12 in /usr/local/lib/python3.10/dist-packages (from biotite) (2.27.1)\n",
            "Requirement already satisfied: msgpack>=0.5.6 in /usr/local/lib/python3.10/dist-packages (from biotite) (1.0.5)\n",
            "Requirement already satisfied: networkx>=2.0 in /usr/local/lib/python3.10/dist-packages (from biotite) (3.1)\n",
            "Requirement already satisfied: urllib3<1.27,>=1.21.1 in /usr/local/lib/python3.10/dist-packages (from requests>=2.12->biotite) (1.26.16)\n",
            "Requirement already satisfied: certifi>=2017.4.17 in /usr/local/lib/python3.10/dist-packages (from requests>=2.12->biotite) (2023.5.7)\n",
            "Requirement already satisfied: charset-normalizer~=2.0.0 in /usr/local/lib/python3.10/dist-packages (from requests>=2.12->biotite) (2.0.12)\n",
            "Requirement already satisfied: idna<4,>=2.5 in /usr/local/lib/python3.10/dist-packages (from requests>=2.12->biotite) (3.4)\n",
            "Collecting git+https://github.com/facebookresearch/esm.git\n",
            "  Cloning https://github.com/facebookresearch/esm.git to /tmp/pip-req-build-duxglst7\n",
            "  Running command git clone --filter=blob:none --quiet https://github.com/facebookresearch/esm.git /tmp/pip-req-build-duxglst7\n",
            "  Resolved https://github.com/facebookresearch/esm.git to commit 2b369911bb5b4b0dda914521b9475cad1656b2ac\n",
            "  Installing build dependencies ... \u001b[?25l\u001b[?25hdone\n",
            "  Getting requirements to build wheel ... \u001b[?25l\u001b[?25hdone\n",
            "  Preparing metadata (pyproject.toml) ... \u001b[?25l\u001b[?25hdone\n",
            "Reading package lists... Done\n",
            "Building dependency tree       \n",
            "Reading state information... Done\n",
            "aria2 is already the newest version (1.35.0-1build1).\n",
            "0 upgraded, 0 newly installed, 0 to remove and 15 not upgraded.\n"
          ]
        }
      ],
      "source": [
        "!pip install biopython biotite\n",
        "!pip install git+https://github.com/facebookresearch/esm.git\n",
        "!apt-get install aria2"
      ]
    },
    {
      "cell_type": "markdown",
      "metadata": {
        "id": "O0_SqulVQ9Kh"
      },
      "source": [
        "### Download Data"
      ]
    },
    {
      "cell_type": "code",
      "execution_count": 3,
      "metadata": {
        "colab": {
          "base_uri": "https://localhost:8080/",
          "height": 0
        },
        "id": "pp3DicGHSAI4",
        "outputId": "4e8c6c07-5784-42e9-8b78-1cec2d2c5924"
      },
      "outputs": [
        {
          "output_type": "stream",
          "name": "stdout",
          "text": [
            "  % Total    % Received % Xferd  Average Speed   Time    Time     Time  Current\n",
            "                                 Dload  Upload   Total   Spent    Left  Speed\n",
            "100  147k  100  147k    0     0   441k      0 --:--:-- --:--:-- --:--:--  441k\n",
            "  % Total    % Received % Xferd  Average Speed   Time    Time     Time  Current\n",
            "                                 Dload  Upload   Total   Spent    Left  Speed\n",
            "100  127k  100  127k    0     0   340k      0 --:--:-- --:--:-- --:--:--  340k\n",
            "  % Total    % Received % Xferd  Average Speed   Time    Time     Time  Current\n",
            "                                 Dload  Upload   Total   Spent    Left  Speed\n",
            "100  181k  100  181k    0     0   548k      0 --:--:-- --:--:-- --:--:--  546k\n"
          ]
        }
      ],
      "source": [
        "# # Download MSAs from esm example repo\n",
        "!curl -O https://raw.githubusercontent.com/facebookresearch/esm/main/examples/data/1a3a_1_A.a3m\n",
        "!curl -O https://raw.githubusercontent.com/facebookresearch/esm/main/examples/data/5ahw_1_A.a3m\n",
        "!curl -O https://raw.githubusercontent.com/facebookresearch/esm/main/examples/data/1xcr_1_A.a3m"
      ]
    },
    {
      "cell_type": "markdown",
      "metadata": {
        "id": "Nad5sAXqREhx"
      },
      "source": [
        "### Download model weights\n",
        "This download code is technically unnecessary. ESM will download weights automatically. However, it's *really* slow on colab. aria2c is much faster."
      ]
    },
    {
      "cell_type": "code",
      "execution_count": 4,
      "metadata": {
        "colab": {
          "base_uri": "https://localhost:8080/",
          "height": 0
        },
        "id": "8e2GzK00RT_L",
        "outputId": "58867500-cf4f-4932-9d06-97ff5b75243c"
      },
      "outputs": [
        {
          "output_type": "stream",
          "name": "stdout",
          "text": [
            "\n",
            "07/06 18:35:11 [\u001b[1;32mNOTICE\u001b[0m] Downloading 1 item(s)\n",
            "\n",
            "07/06 18:35:12 [\u001b[1;31mERROR\u001b[0m] CUID#7 - Download aborted. URI=https://dl.fbaipublicfiles.com/fair-esm/models/esm2_t33_650M_UR50S.pt\n",
            "Exception: [AbstractCommand.cc:351] errorCode=22 URI=https://dl.fbaipublicfiles.com/fair-esm/models/esm2_t33_650M_UR50S.pt\n",
            "  -> [HttpSkipResponseCommand.cc:239] errorCode=22 The response status is not successful. status=403\n",
            "\n",
            "07/06 18:35:12 [\u001b[1;32mNOTICE\u001b[0m] Download GID#fcd3ce029b11314a not complete: \n",
            "\n",
            "Download Results:\n",
            "gid   |stat|avg speed  |path/URI\n",
            "======+====+===========+=======================================================\n",
            "fcd3ce|\u001b[1;31mERR\u001b[0m |       0B/s|https://dl.fbaipublicfiles.com/fair-esm/models/esm2_t33_650M_UR50S.pt\n",
            "\n",
            "Status Legend:\n",
            "(ERR):error occurred.\n",
            "\n",
            "aria2 will resume download if the transfer is restarted.\n",
            "If there are any errors, then see the log file. See '-l' option in help/man page for details.\n",
            "\n",
            "07/06 18:35:12 [\u001b[1;32mNOTICE\u001b[0m] Downloading 1 item(s)\n",
            "\n",
            "07/06 18:35:13 [\u001b[1;31mERROR\u001b[0m] CUID#7 - Download aborted. URI=https://dl.fbaipublicfiles.com/fair-esm/regression/esm2_t33_650M_UR50S-contact-regression.pt\n",
            "Exception: [AbstractCommand.cc:351] errorCode=22 URI=https://dl.fbaipublicfiles.com/fair-esm/regression/esm2_t33_650M_UR50S-contact-regression.pt\n",
            "  -> [HttpSkipResponseCommand.cc:239] errorCode=22 The response status is not successful. status=403\n",
            "\n",
            "07/06 18:35:13 [\u001b[1;32mNOTICE\u001b[0m] Download GID#ee72e1a3cec4bc1f not complete: \n",
            "\n",
            "Download Results:\n",
            "gid   |stat|avg speed  |path/URI\n",
            "======+====+===========+=======================================================\n",
            "ee72e1|\u001b[1;31mERR\u001b[0m |       0B/s|https://dl.fbaipublicfiles.com/fair-esm/regression/esm2_t33_650M_UR50S-contact-regression.pt\n",
            "\n",
            "Status Legend:\n",
            "(ERR):error occurred.\n",
            "\n",
            "aria2 will resume download if the transfer is restarted.\n",
            "If there are any errors, then see the log file. See '-l' option in help/man page for details.\n",
            "\n",
            "07/06 18:35:13 [\u001b[1;32mNOTICE\u001b[0m] Downloading 1 item(s)\n",
            "\u001b[0m\n",
            "07/06 18:35:21 [\u001b[1;32mNOTICE\u001b[0m] Download complete: /root/.cache/torch/hub/checkpoints/esm_msa1b_t12_100M_UR50S.pt\n",
            "\n",
            "Download Results:\n",
            "gid   |stat|avg speed  |path/URI\n",
            "======+====+===========+=======================================================\n",
            "006d0b|\u001b[1;32mOK\u001b[0m  |   169MiB/s|/root/.cache/torch/hub/checkpoints/esm_msa1b_t12_100M_UR50S.pt\n",
            "\n",
            "Status Legend:\n",
            "(OK):download completed.\n",
            "\n",
            "07/06 18:35:21 [\u001b[1;32mNOTICE\u001b[0m] Downloading 1 item(s)\n",
            "\n",
            "07/06 18:35:22 [\u001b[1;32mNOTICE\u001b[0m] Download complete: /root/.cache/torch/hub/checkpoints/esm_msa1b_t12_100M_UR50S-contact-regression.pt\n",
            "\n",
            "Download Results:\n",
            "gid   |stat|avg speed  |path/URI\n",
            "======+====+===========+=======================================================\n",
            "65376a|\u001b[1;32mOK\u001b[0m  |   2.8KiB/s|/root/.cache/torch/hub/checkpoints/esm_msa1b_t12_100M_UR50S-contact-regression.pt\n",
            "\n",
            "Status Legend:\n",
            "(OK):download completed.\n"
          ]
        }
      ],
      "source": [
        "!mkdir -p /root/.cache/torch/hub/checkpoints\n",
        "!aria2c --dir=/root/.cache/torch/hub/checkpoints --continue --split 8 --max-connection-per-server 8\\\n",
        "    https://dl.fbaipublicfiles.com/fair-esm/models/esm2_t33_650M_UR50S.pt\n",
        "!aria2c --dir=/root/.cache/torch/hub/checkpoints --continue --split 8 --max-connection-per-server 8\\\n",
        "    https://dl.fbaipublicfiles.com/fair-esm/regression/esm2_t33_650M_UR50S-contact-regression.pt\n",
        "!aria2c --dir=/root/.cache/torch/hub/checkpoints --continue --split 8 --max-connection-per-server 8\\\n",
        "    https://dl.fbaipublicfiles.com/fair-esm/models/esm_msa1b_t12_100M_UR50S.pt\n",
        "!aria2c --dir=/root/.cache/torch/hub/checkpoints --continue --split 8 --max-connection-per-server 8\\\n",
        "    https://dl.fbaipublicfiles.com/fair-esm/regression/esm_msa1b_t12_100M_UR50S-contact-regression.pt"
      ]
    },
    {
      "cell_type": "markdown",
      "metadata": {
        "id": "q1eZWXv1bxGl"
      },
      "source": [
        "## Imports"
      ]
    },
    {
      "cell_type": "code",
      "execution_count": 5,
      "metadata": {
        "colab": {
          "base_uri": "https://localhost:8080/",
          "height": 0
        },
        "id": "fQ8ztOjvQbJV",
        "outputId": "ca29c221-dc07-4310-dac7-a8554d64ab2b"
      },
      "outputs": [
        {
          "output_type": "execute_result",
          "data": {
            "text/plain": [
              "<torch.autograd.grad_mode.set_grad_enabled at 0x7ff09c6bff70>"
            ]
          },
          "metadata": {},
          "execution_count": 5
        }
      ],
      "source": [
        "from typing import List, Tuple, Optional, Dict, NamedTuple, Union, Callable\n",
        "import itertools\n",
        "import os\n",
        "import string\n",
        "from pathlib import Path\n",
        "\n",
        "import numpy as np\n",
        "import torch\n",
        "from scipy.spatial.distance import squareform, pdist, cdist\n",
        "import matplotlib.pyplot as plt\n",
        "import matplotlib as mpl\n",
        "from Bio import SeqIO\n",
        "import biotite.structure as bs\n",
        "from biotite.structure.io.pdbx import PDBxFile, get_structure\n",
        "from biotite.database import rcsb\n",
        "from tqdm import tqdm\n",
        "import pandas as pd\n",
        "\n",
        "import esm\n",
        "\n",
        "torch.set_grad_enabled(False)"
      ]
    },
    {
      "cell_type": "markdown",
      "metadata": {
        "id": "i7iXPaDKZ5vx"
      },
      "source": [
        "## Define Functions"
      ]
    },
    {
      "cell_type": "markdown",
      "metadata": {
        "id": "rb4cDoG2ns91"
      },
      "source": [
        "### Parsing alignments"
      ]
    },
    {
      "cell_type": "code",
      "execution_count": 6,
      "metadata": {
        "id": "Lpt-Ijz2T6zF"
      },
      "outputs": [],
      "source": [
        "# This is an efficient way to delete lowercase characters and insertion characters from a string\n",
        "deletekeys = dict.fromkeys(string.ascii_lowercase)\n",
        "deletekeys[\".\"] = None\n",
        "deletekeys[\"*\"] = None\n",
        "translation = str.maketrans(deletekeys)\n",
        "\n",
        "def read_sequence(filename: str) -> Tuple[str, str]:\n",
        "    \"\"\" Reads the first (reference) sequences from a fasta or MSA file.\"\"\"\n",
        "    record = next(SeqIO.parse(filename, \"fasta\"))\n",
        "    return record.description, str(record.seq)\n",
        "\n",
        "def remove_insertions(sequence: str) -> str:\n",
        "    \"\"\" Removes any insertions into the sequence. Needed to load aligned sequences in an MSA. \"\"\"\n",
        "    return sequence.translate(translation)\n",
        "\n",
        "def read_msa(filename: str) -> List[Tuple[str, str]]:\n",
        "    \"\"\" Reads the sequences from an MSA file, automatically removes insertions.\"\"\"\n",
        "    return [(record.description, remove_insertions(str(record.seq))) for record in SeqIO.parse(filename, \"fasta\")]"
      ]
    },
    {
      "cell_type": "markdown",
      "metadata": {
        "id": "tV3WCbn6aXL7"
      },
      "source": [
        "### Converting structures to contacts\n",
        "\n",
        "There are many ways to define a protein contact. Here we're using the definition of 8 angstroms between carbon beta atoms. Note that the position of the carbon beta is imputed from the position of the N, CA, and C atoms for each residue."
      ]
    },
    {
      "cell_type": "code",
      "execution_count": 7,
      "metadata": {
        "id": "n4FBkOUaWuXb"
      },
      "outputs": [],
      "source": [
        "def extend(a, b, c, L, A, D):\n",
        "    \"\"\"\n",
        "    input:  3 coords (a,b,c), (L)ength, (A)ngle, and (D)ihedral\n",
        "    output: 4th coord\n",
        "    \"\"\"\n",
        "\n",
        "    def normalize(x):\n",
        "        return x / np.linalg.norm(x, ord=2, axis=-1, keepdims=True)\n",
        "\n",
        "    bc = normalize(b - c)\n",
        "    n = normalize(np.cross(b - a, bc))\n",
        "    m = [bc, np.cross(n, bc), n]\n",
        "    d = [L * np.cos(A), L * np.sin(A) * np.cos(D), -L * np.sin(A) * np.sin(D)]\n",
        "    return c + sum([m * d for m, d in zip(m, d)])\n",
        "\n",
        "\n",
        "def contacts_from_pdb(\n",
        "    structure: bs.AtomArray,\n",
        "    distance_threshold: float = 8.0,\n",
        "    chain: Optional[str] = None,\n",
        ") -> np.ndarray:\n",
        "    mask = ~structure.hetero\n",
        "    if chain is not None:\n",
        "        mask &= structure.chain_id == chain\n",
        "\n",
        "    N = structure.coord[mask & (structure.atom_name == \"N\")]\n",
        "    CA = structure.coord[mask & (structure.atom_name == \"CA\")]\n",
        "    C = structure.coord[mask & (structure.atom_name == \"C\")]\n",
        "\n",
        "    Cbeta = extend(C, N, CA, 1.522, 1.927, -2.143)\n",
        "    dist = squareform(pdist(Cbeta))\n",
        "\n",
        "    contacts = dist < distance_threshold\n",
        "    contacts = contacts.astype(np.int64)\n",
        "    contacts[np.isnan(dist)] = -1\n",
        "    return contacts"
      ]
    },
    {
      "cell_type": "markdown",
      "metadata": {
        "id": "mqwybh2Tn_Ou"
      },
      "source": [
        "### Subsampling MSA"
      ]
    },
    {
      "cell_type": "code",
      "execution_count": 8,
      "metadata": {
        "id": "dSdxag5OmOmK"
      },
      "outputs": [],
      "source": [
        "# Select sequences from the MSA to maximize the hamming distance\n",
        "# Alternatively, can use hhfilter\n",
        "def greedy_select(msa: List[Tuple[str, str]], num_seqs: int, mode: str = \"max\") -> List[Tuple[str, str]]:\n",
        "    assert mode in (\"max\", \"min\")\n",
        "    if len(msa) <= num_seqs:\n",
        "        return msa\n",
        "\n",
        "    array = np.array([list(seq) for _, seq in msa], dtype=np.bytes_).view(np.uint8)\n",
        "\n",
        "    optfunc = np.argmax if mode == \"max\" else np.argmin\n",
        "    all_indices = np.arange(len(msa))\n",
        "    indices = [0]\n",
        "    pairwise_distances = np.zeros((0, len(msa)))\n",
        "    for _ in range(num_seqs - 1):\n",
        "        dist = cdist(array[indices[-1:]], array, \"hamming\")\n",
        "        pairwise_distances = np.concatenate([pairwise_distances, dist])\n",
        "        shifted_distance = np.delete(pairwise_distances, indices, axis=1).mean(0)\n",
        "        shifted_index = optfunc(shifted_distance)\n",
        "        index = np.delete(all_indices, indices)[shifted_index]\n",
        "        indices.append(index)\n",
        "    indices = sorted(indices)\n",
        "    return [msa[idx] for idx in indices]"
      ]
    },
    {
      "cell_type": "markdown",
      "metadata": {
        "id": "lW5thQpSn0Rp"
      },
      "source": [
        "### Compute contact precisions"
      ]
    },
    {
      "cell_type": "code",
      "execution_count": 9,
      "metadata": {
        "id": "c7T9xWTXeIaR"
      },
      "outputs": [],
      "source": [
        "def compute_precisions(\n",
        "    predictions: torch.Tensor,\n",
        "    targets: torch.Tensor,\n",
        "    src_lengths: Optional[torch.Tensor] = None,\n",
        "    minsep: int = 6,\n",
        "    maxsep: Optional[int] = None,\n",
        "    override_length: Optional[int] = None,  # for casp\n",
        "):\n",
        "    if isinstance(predictions, np.ndarray):\n",
        "        predictions = torch.from_numpy(predictions)\n",
        "    if isinstance(targets, np.ndarray):\n",
        "        targets = torch.from_numpy(targets)\n",
        "    if predictions.dim() == 2:\n",
        "        predictions = predictions.unsqueeze(0)\n",
        "    if targets.dim() == 2:\n",
        "        targets = targets.unsqueeze(0)\n",
        "    override_length = (targets[0, 0] >= 0).sum()\n",
        "\n",
        "    # Check sizes\n",
        "    if predictions.size() != targets.size():\n",
        "        raise ValueError(\n",
        "            f\"Size mismatch. Received predictions of size {predictions.size()}, \"\n",
        "            f\"targets of size {targets.size()}\"\n",
        "        )\n",
        "    device = predictions.device\n",
        "\n",
        "    batch_size, seqlen, _ = predictions.size()\n",
        "    seqlen_range = torch.arange(seqlen, device=device)\n",
        "\n",
        "    sep = seqlen_range.unsqueeze(0) - seqlen_range.unsqueeze(1)\n",
        "    sep = sep.unsqueeze(0)\n",
        "    valid_mask = sep >= minsep\n",
        "    valid_mask = valid_mask & (targets >= 0)  # negative targets are invalid\n",
        "\n",
        "    if maxsep is not None:\n",
        "        valid_mask &= sep < maxsep\n",
        "\n",
        "    if src_lengths is not None:\n",
        "        valid = seqlen_range.unsqueeze(0) < src_lengths.unsqueeze(1)\n",
        "        valid_mask &= valid.unsqueeze(1) & valid.unsqueeze(2)\n",
        "    else:\n",
        "        src_lengths = torch.full([batch_size], seqlen, device=device, dtype=torch.long)\n",
        "\n",
        "    predictions = predictions.masked_fill(~valid_mask, float(\"-inf\"))\n",
        "\n",
        "    x_ind, y_ind = np.triu_indices(seqlen, minsep)\n",
        "    predictions_upper = predictions[:, x_ind, y_ind]\n",
        "    targets_upper = targets[:, x_ind, y_ind]\n",
        "\n",
        "    topk = seqlen if override_length is None else max(seqlen, override_length)\n",
        "    indices = predictions_upper.argsort(dim=-1, descending=True)[:, :topk]\n",
        "    topk_targets = targets_upper[torch.arange(batch_size).unsqueeze(1), indices]\n",
        "    if topk_targets.size(1) < topk:\n",
        "        topk_targets = F.pad(topk_targets, [0, topk - topk_targets.size(1)])\n",
        "\n",
        "    cumulative_dist = topk_targets.type_as(predictions).cumsum(-1)\n",
        "\n",
        "    gather_lengths = src_lengths.unsqueeze(1)\n",
        "    if override_length is not None:\n",
        "        gather_lengths = override_length * torch.ones_like(\n",
        "            gather_lengths, device=device\n",
        "        )\n",
        "\n",
        "    gather_indices = (\n",
        "        torch.arange(0.1, 1.1, 0.1, device=device).unsqueeze(0) * gather_lengths\n",
        "    ).type(torch.long) - 1\n",
        "\n",
        "    binned_cumulative_dist = cumulative_dist.gather(1, gather_indices)\n",
        "    binned_precisions = binned_cumulative_dist / (gather_indices + 1).type_as(\n",
        "        binned_cumulative_dist\n",
        "    )\n",
        "\n",
        "    pl5 = binned_precisions[:, 1]\n",
        "    pl2 = binned_precisions[:, 4]\n",
        "    pl = binned_precisions[:, 9]\n",
        "    auc = binned_precisions.mean(-1)\n",
        "\n",
        "    return {\"AUC\": auc, \"P@L\": pl, \"P@L2\": pl2, \"P@L5\": pl5}\n",
        "\n",
        "\n",
        "def evaluate_prediction(\n",
        "    predictions: torch.Tensor,\n",
        "    targets: torch.Tensor,\n",
        ") -> Dict[str, float]:\n",
        "    if isinstance(targets, np.ndarray):\n",
        "        targets = torch.from_numpy(targets)\n",
        "    contact_ranges = [\n",
        "        (\"local\", 3, 6),\n",
        "        (\"short\", 6, 12),\n",
        "        (\"medium\", 12, 24),\n",
        "        (\"long\", 24, None),\n",
        "    ]\n",
        "    metrics = {}\n",
        "    targets = targets.to(predictions.device)\n",
        "    for name, minsep, maxsep in contact_ranges:\n",
        "        rangemetrics = compute_precisions(\n",
        "            predictions,\n",
        "            targets,\n",
        "            minsep=minsep,\n",
        "            maxsep=maxsep,\n",
        "        )\n",
        "        for key, val in rangemetrics.items():\n",
        "            metrics[f\"{name}_{key}\"] = val.item()\n",
        "    return metrics"
      ]
    },
    {
      "cell_type": "markdown",
      "metadata": {
        "id": "cvYiSUg7n5rP"
      },
      "source": [
        "### Plotting Results"
      ]
    },
    {
      "cell_type": "code",
      "execution_count": 10,
      "metadata": {
        "id": "pG3gTskUfyfy"
      },
      "outputs": [],
      "source": [
        "\"\"\"Adapted from: https://github.com/rmrao/evo/blob/main/evo/visualize.py\"\"\"\n",
        "def plot_contacts_and_predictions(\n",
        "    predictions: Union[torch.Tensor, np.ndarray],\n",
        "    contacts: Union[torch.Tensor, np.ndarray],\n",
        "    ax: Optional[mpl.axes.Axes] = None,\n",
        "    # artists: Optional[ContactAndPredictionArtists] = None,\n",
        "    cmap: str = \"Blues\",\n",
        "    ms: float = 1,\n",
        "    title: Union[bool, str, Callable[[float], str]] = True,\n",
        "    animated: bool = False,\n",
        ") -> None:\n",
        "\n",
        "    if isinstance(predictions, torch.Tensor):\n",
        "        predictions = predictions.detach().cpu().numpy()\n",
        "    if isinstance(contacts, torch.Tensor):\n",
        "        contacts = contacts.detach().cpu().numpy()\n",
        "    if ax is None:\n",
        "        ax = plt.gca()\n",
        "\n",
        "    seqlen = contacts.shape[0]\n",
        "    relative_distance = np.add.outer(-np.arange(seqlen), np.arange(seqlen))\n",
        "    bottom_mask = relative_distance < 0\n",
        "    masked_image = np.ma.masked_where(bottom_mask, predictions)\n",
        "    invalid_mask = np.abs(np.add.outer(np.arange(seqlen), -np.arange(seqlen))) < 6\n",
        "    predictions = predictions.copy()\n",
        "    predictions[invalid_mask] = float(\"-inf\")\n",
        "\n",
        "    topl_val = np.sort(predictions.reshape(-1))[-seqlen]\n",
        "    pred_contacts = predictions >= topl_val\n",
        "    true_positives = contacts & pred_contacts & ~bottom_mask\n",
        "    false_positives = ~contacts & pred_contacts & ~bottom_mask\n",
        "    other_contacts = contacts & ~pred_contacts & ~bottom_mask\n",
        "\n",
        "    if isinstance(title, str):\n",
        "        title_text: Optional[str] = title\n",
        "    elif title:\n",
        "        long_range_pl = compute_precisions(predictions, contacts, minsep=24)[\n",
        "            \"P@L\"\n",
        "        ].item()\n",
        "        if callable(title):\n",
        "            title_text = title(long_range_pl)\n",
        "        else:\n",
        "            title_text = f\"Long Range P@L: {100 * long_range_pl:0.1f}\"\n",
        "    else:\n",
        "        title_text = None\n",
        "\n",
        "    img = ax.imshow(masked_image, cmap=cmap, animated=animated)\n",
        "    oc = ax.plot(*np.where(other_contacts), \"o\", c=\"grey\", ms=ms)[0]\n",
        "    fn = ax.plot(*np.where(false_positives), \"o\", c=\"r\", ms=ms)[0]\n",
        "    tp = ax.plot(*np.where(true_positives), \"o\", c=\"b\", ms=ms)[0]\n",
        "    ti = ax.set_title(title_text) if title_text is not None else None\n",
        "    # artists = ContactAndPredictionArtists(img, oc, fn, tp, ti)\n",
        "\n",
        "    ax.axis(\"square\")\n",
        "    ax.set_xlim([0, seqlen])\n",
        "    ax.set_ylim([0, seqlen])"
      ]
    },
    {
      "cell_type": "markdown",
      "metadata": {
        "id": "6T7Pcz-poDFn"
      },
      "source": [
        "## Predict and Visualize"
      ]
    },
    {
      "cell_type": "markdown",
      "metadata": {
        "id": "WnZSlf1EoGys"
      },
      "source": [
        "### Read Data"
      ]
    },
    {
      "cell_type": "code",
      "execution_count": 17,
      "metadata": {
        "id": "FS8xLDd9ZJfN"
      },
      "outputs": [],
      "source": [
        "# This is where the data is actually read in\n",
        "PDB_IDS = [\"1j9o\", \"2jp1\"]\n",
        "\n",
        "structures = {\n",
        "    name.lower(): get_structure(PDBxFile.read(rcsb.fetch(name, \"cif\")))[0]\n",
        "    for name in PDB_IDS\n",
        "}\n",
        "\n",
        "contacts = {\n",
        "    name: contacts_from_pdb(structure, chain=\"A\")\n",
        "    for name, structure in structures.items()\n",
        "}\n",
        "\n",
        "msas = {\n",
        "    name: read_msa(f\"data/{name.lower()}_1_A.a3m\")\n",
        "    for name in PDB_IDS\n",
        "}\n",
        "\n",
        "sequences = {\n",
        "    name: msa[0] for name, msa in msas.items()\n",
        "}"
      ]
    },
    {
      "cell_type": "markdown",
      "metadata": {
        "id": "jacL9LZXoJYD"
      },
      "source": [
        "### ESM-2 Predictions"
      ]
    },
    {
      "cell_type": "code",
      "execution_count": 15,
      "metadata": {
        "id": "Kwh2szcbYvKm"
      },
      "outputs": [],
      "source": [
        "esm2, esm2_alphabet = esm.pretrained.esm2_t33_650M_UR50D()\n",
        "esm2 = esm2.eval().cuda()\n",
        "esm2_batch_converter = esm2_alphabet.get_batch_converter()"
      ]
    },
    {
      "cell_type": "code",
      "execution_count": 16,
      "metadata": {
        "colab": {
          "base_uri": "https://localhost:8080/",
          "height": 211
        },
        "id": "Qce87TjvbEDA",
        "outputId": "ed61a404-a59c-417e-b087-77d69a1e168c"
      },
      "outputs": [
        {
          "output_type": "display_data",
          "data": {
            "text/plain": [
              "     id                 model  local_AUC  local_P@L  local_P@L2  local_P@L5  \\\n",
              "0  1j9o  ESM-2 (Unsupervised)   0.491279   0.354839    0.478261    0.666667   \n",
              "1  2jp1  ESM-2 (Unsupervised)   0.364656   0.233333    0.400000    0.416667   \n",
              "\n",
              "   short_AUC  short_P@L  short_P@L2  short_P@L5  medium_AUC  medium_P@L  \\\n",
              "0   0.414005   0.204301    0.369565    0.722222    0.486047    0.268817   \n",
              "1   0.487421   0.300000    0.433333    0.750000    0.489081    0.350000   \n",
              "\n",
              "   medium_P@L2  medium_P@L5  long_AUC  long_P@L  long_P@L2  long_P@L5  \n",
              "0     0.500000     0.555556  0.430413  0.258065   0.413043   0.555556  \n",
              "1     0.433333     0.666667  0.170324  0.116667   0.200000   0.166667  "
            ],
            "text/html": [
              "\n",
              "  <div id=\"df-4ddebb7a-ec77-436d-9a52-946ae273dfa1\">\n",
              "    <div class=\"colab-df-container\">\n",
              "      <div>\n",
              "<style scoped>\n",
              "    .dataframe tbody tr th:only-of-type {\n",
              "        vertical-align: middle;\n",
              "    }\n",
              "\n",
              "    .dataframe tbody tr th {\n",
              "        vertical-align: top;\n",
              "    }\n",
              "\n",
              "    .dataframe thead th {\n",
              "        text-align: right;\n",
              "    }\n",
              "</style>\n",
              "<table border=\"1\" class=\"dataframe\">\n",
              "  <thead>\n",
              "    <tr style=\"text-align: right;\">\n",
              "      <th></th>\n",
              "      <th>id</th>\n",
              "      <th>model</th>\n",
              "      <th>local_AUC</th>\n",
              "      <th>local_P@L</th>\n",
              "      <th>local_P@L2</th>\n",
              "      <th>local_P@L5</th>\n",
              "      <th>short_AUC</th>\n",
              "      <th>short_P@L</th>\n",
              "      <th>short_P@L2</th>\n",
              "      <th>short_P@L5</th>\n",
              "      <th>medium_AUC</th>\n",
              "      <th>medium_P@L</th>\n",
              "      <th>medium_P@L2</th>\n",
              "      <th>medium_P@L5</th>\n",
              "      <th>long_AUC</th>\n",
              "      <th>long_P@L</th>\n",
              "      <th>long_P@L2</th>\n",
              "      <th>long_P@L5</th>\n",
              "    </tr>\n",
              "  </thead>\n",
              "  <tbody>\n",
              "    <tr>\n",
              "      <th>0</th>\n",
              "      <td>1j9o</td>\n",
              "      <td>ESM-2 (Unsupervised)</td>\n",
              "      <td>0.491279</td>\n",
              "      <td>0.354839</td>\n",
              "      <td>0.478261</td>\n",
              "      <td>0.666667</td>\n",
              "      <td>0.414005</td>\n",
              "      <td>0.204301</td>\n",
              "      <td>0.369565</td>\n",
              "      <td>0.722222</td>\n",
              "      <td>0.486047</td>\n",
              "      <td>0.268817</td>\n",
              "      <td>0.500000</td>\n",
              "      <td>0.555556</td>\n",
              "      <td>0.430413</td>\n",
              "      <td>0.258065</td>\n",
              "      <td>0.413043</td>\n",
              "      <td>0.555556</td>\n",
              "    </tr>\n",
              "    <tr>\n",
              "      <th>1</th>\n",
              "      <td>2jp1</td>\n",
              "      <td>ESM-2 (Unsupervised)</td>\n",
              "      <td>0.364656</td>\n",
              "      <td>0.233333</td>\n",
              "      <td>0.400000</td>\n",
              "      <td>0.416667</td>\n",
              "      <td>0.487421</td>\n",
              "      <td>0.300000</td>\n",
              "      <td>0.433333</td>\n",
              "      <td>0.750000</td>\n",
              "      <td>0.489081</td>\n",
              "      <td>0.350000</td>\n",
              "      <td>0.433333</td>\n",
              "      <td>0.666667</td>\n",
              "      <td>0.170324</td>\n",
              "      <td>0.116667</td>\n",
              "      <td>0.200000</td>\n",
              "      <td>0.166667</td>\n",
              "    </tr>\n",
              "  </tbody>\n",
              "</table>\n",
              "</div>\n",
              "      <button class=\"colab-df-convert\" onclick=\"convertToInteractive('df-4ddebb7a-ec77-436d-9a52-946ae273dfa1')\"\n",
              "              title=\"Convert this dataframe to an interactive table.\"\n",
              "              style=\"display:none;\">\n",
              "        \n",
              "  <svg xmlns=\"http://www.w3.org/2000/svg\" height=\"24px\"viewBox=\"0 0 24 24\"\n",
              "       width=\"24px\">\n",
              "    <path d=\"M0 0h24v24H0V0z\" fill=\"none\"/>\n",
              "    <path d=\"M18.56 5.44l.94 2.06.94-2.06 2.06-.94-2.06-.94-.94-2.06-.94 2.06-2.06.94zm-11 1L8.5 8.5l.94-2.06 2.06-.94-2.06-.94L8.5 2.5l-.94 2.06-2.06.94zm10 10l.94 2.06.94-2.06 2.06-.94-2.06-.94-.94-2.06-.94 2.06-2.06.94z\"/><path d=\"M17.41 7.96l-1.37-1.37c-.4-.4-.92-.59-1.43-.59-.52 0-1.04.2-1.43.59L10.3 9.45l-7.72 7.72c-.78.78-.78 2.05 0 2.83L4 21.41c.39.39.9.59 1.41.59.51 0 1.02-.2 1.41-.59l7.78-7.78 2.81-2.81c.8-.78.8-2.07 0-2.86zM5.41 20L4 18.59l7.72-7.72 1.47 1.35L5.41 20z\"/>\n",
              "  </svg>\n",
              "      </button>\n",
              "      \n",
              "  <style>\n",
              "    .colab-df-container {\n",
              "      display:flex;\n",
              "      flex-wrap:wrap;\n",
              "      gap: 12px;\n",
              "    }\n",
              "\n",
              "    .colab-df-convert {\n",
              "      background-color: #E8F0FE;\n",
              "      border: none;\n",
              "      border-radius: 50%;\n",
              "      cursor: pointer;\n",
              "      display: none;\n",
              "      fill: #1967D2;\n",
              "      height: 32px;\n",
              "      padding: 0 0 0 0;\n",
              "      width: 32px;\n",
              "    }\n",
              "\n",
              "    .colab-df-convert:hover {\n",
              "      background-color: #E2EBFA;\n",
              "      box-shadow: 0px 1px 2px rgba(60, 64, 67, 0.3), 0px 1px 3px 1px rgba(60, 64, 67, 0.15);\n",
              "      fill: #174EA6;\n",
              "    }\n",
              "\n",
              "    [theme=dark] .colab-df-convert {\n",
              "      background-color: #3B4455;\n",
              "      fill: #D2E3FC;\n",
              "    }\n",
              "\n",
              "    [theme=dark] .colab-df-convert:hover {\n",
              "      background-color: #434B5C;\n",
              "      box-shadow: 0px 1px 3px 1px rgba(0, 0, 0, 0.15);\n",
              "      filter: drop-shadow(0px 1px 2px rgba(0, 0, 0, 0.3));\n",
              "      fill: #FFFFFF;\n",
              "    }\n",
              "  </style>\n",
              "\n",
              "      <script>\n",
              "        const buttonEl =\n",
              "          document.querySelector('#df-4ddebb7a-ec77-436d-9a52-946ae273dfa1 button.colab-df-convert');\n",
              "        buttonEl.style.display =\n",
              "          google.colab.kernel.accessAllowed ? 'block' : 'none';\n",
              "\n",
              "        async function convertToInteractive(key) {\n",
              "          const element = document.querySelector('#df-4ddebb7a-ec77-436d-9a52-946ae273dfa1');\n",
              "          const dataTable =\n",
              "            await google.colab.kernel.invokeFunction('convertToInteractive',\n",
              "                                                     [key], {});\n",
              "          if (!dataTable) return;\n",
              "\n",
              "          const docLinkHtml = 'Like what you see? Visit the ' +\n",
              "            '<a target=\"_blank\" href=https://colab.research.google.com/notebooks/data_table.ipynb>data table notebook</a>'\n",
              "            + ' to learn more about interactive tables.';\n",
              "          element.innerHTML = '';\n",
              "          dataTable['output_type'] = 'display_data';\n",
              "          await google.colab.output.renderOutput(dataTable, element);\n",
              "          const docLink = document.createElement('div');\n",
              "          docLink.innerHTML = docLinkHtml;\n",
              "          element.appendChild(docLink);\n",
              "        }\n",
              "      </script>\n",
              "    </div>\n",
              "  </div>\n",
              "  "
            ]
          },
          "metadata": {}
        }
      ],
      "source": [
        "esm2_predictions = {}\n",
        "esm2_results = []\n",
        "for name, inputs in sequences.items():\n",
        "    esm2_batch_labels, esm2_batch_strs, esm2_batch_tokens = esm2_batch_converter([inputs])\n",
        "    esm2_batch_tokens = esm2_batch_tokens.to(next(esm2.parameters()).device)\n",
        "    esm2_predictions[name] = esm2.predict_contacts(esm2_batch_tokens)[0].cpu()\n",
        "    metrics = {\"id\": name, \"model\": \"ESM-2 (Unsupervised)\"}\n",
        "    metrics.update(evaluate_prediction(esm2_predictions[name], contacts[name]))\n",
        "    esm2_results.append(metrics)\n",
        "esm2_results = pd.DataFrame(esm2_results)\n",
        "display(esm2_results)"
      ]
    },
    {
      "cell_type": "code",
      "execution_count": 18,
      "metadata": {
        "colab": {
          "base_uri": "https://localhost:8080/",
          "height": 528
        },
        "id": "WnlwYZeUbgLO",
        "outputId": "3d3eb320-f12c-46c4-d5c5-4e6467408b54"
      },
      "outputs": [
        {
          "output_type": "display_data",
          "data": {
            "text/plain": [
              "<Figure size 1800x600 with 3 Axes>"
            ],
            "image/png": "[encoded data removed]"
          },
          "metadata": {}
        }
      ],
      "source": [
        "fig, axes = plt.subplots(figsize=(18, 6), ncols=3)\n",
        "for ax, name in zip(axes, PDB_IDS):\n",
        "    prediction = esm2_predictions[name]\n",
        "    target = contacts[name]\n",
        "    plot_contacts_and_predictions(\n",
        "        prediction, target, ax=ax, title = lambda prec: f\"{name}: Long Range P@L: {100 * prec:0.1f}\"\n",
        "    )\n",
        "plt.show()"
      ]
    },
    {
      "cell_type": "markdown",
      "metadata": {
        "id": "IohE_rsToQAK"
      },
      "source": [
        "### MSA Transformer Predictions"
      ]
    },
    {
      "cell_type": "code",
      "execution_count": 19,
      "metadata": {
        "id": "kIiH7a5olI_A"
      },
      "outputs": [],
      "source": [
        "msa_transformer, msa_transformer_alphabet = esm.pretrained.esm_msa1b_t12_100M_UR50S()\n",
        "msa_transformer = msa_transformer.eval().cuda()\n",
        "msa_transformer_batch_converter = msa_transformer_alphabet.get_batch_converter()"
      ]
    },
    {
      "cell_type": "code",
      "execution_count": 20,
      "metadata": {
        "colab": {
          "base_uri": "https://localhost:8080/",
          "height": 246
        },
        "id": "p7USWOF2lWwJ",
        "outputId": "94e85f93-cdd8-4ac8-b4ac-2c8fed384fbf"
      },
      "outputs": [
        {
          "output_type": "display_data",
          "data": {
            "text/plain": [
              "     id                           model  local_AUC  local_P@L  local_P@L2  \\\n",
              "0  1j9o  MSA Transformer (Unsupervised)   0.647428   0.462366    0.652174   \n",
              "1  2jp1  MSA Transformer (Unsupervised)   0.295615   0.216667    0.300000   \n",
              "\n",
              "   local_P@L5  short_AUC  short_P@L  short_P@L2  short_P@L5  medium_AUC  \\\n",
              "0    0.777778   0.400193   0.161290    0.326087    0.777778    0.474044   \n",
              "1    0.333333   0.430007   0.233333    0.366667    0.750000    0.348968   \n",
              "\n",
              "   medium_P@L  medium_P@L2  medium_P@L5  long_AUC  long_P@L  long_P@L2  \\\n",
              "0    0.279570     0.434783     0.666667  0.453743  0.268817   0.434783   \n",
              "1    0.233333     0.300000     0.583333  0.076151  0.050000   0.066667   \n",
              "\n",
              "   long_P@L5  \n",
              "0   0.722222  \n",
              "1   0.083333  "
            ],
            "text/html": [
              "\n",
              "  <div id=\"df-b454aa18-d62a-4b5c-9b3d-ec1db1263b59\">\n",
              "    <div class=\"colab-df-container\">\n",
              "      <div>\n",
              "<style scoped>\n",
              "    .dataframe tbody tr th:only-of-type {\n",
              "        vertical-align: middle;\n",
              "    }\n",
              "\n",
              "    .dataframe tbody tr th {\n",
              "        vertical-align: top;\n",
              "    }\n",
              "\n",
              "    .dataframe thead th {\n",
              "        text-align: right;\n",
              "    }\n",
              "</style>\n",
              "<table border=\"1\" class=\"dataframe\">\n",
              "  <thead>\n",
              "    <tr style=\"text-align: right;\">\n",
              "      <th></th>\n",
              "      <th>id</th>\n",
              "      <th>model</th>\n",
              "      <th>local_AUC</th>\n",
              "      <th>local_P@L</th>\n",
              "      <th>local_P@L2</th>\n",
              "      <th>local_P@L5</th>\n",
              "      <th>short_AUC</th>\n",
              "      <th>short_P@L</th>\n",
              "      <th>short_P@L2</th>\n",
              "      <th>short_P@L5</th>\n",
              "      <th>medium_AUC</th>\n",
              "      <th>medium_P@L</th>\n",
              "      <th>medium_P@L2</th>\n",
              "      <th>medium_P@L5</th>\n",
              "      <th>long_AUC</th>\n",
              "      <th>long_P@L</th>\n",
              "      <th>long_P@L2</th>\n",
              "      <th>long_P@L5</th>\n",
              "    </tr>\n",
              "  </thead>\n",
              "  <tbody>\n",
              "    <tr>\n",
              "      <th>0</th>\n",
              "      <td>1j9o</td>\n",
              "      <td>MSA Transformer (Unsupervised)</td>\n",
              "      <td>0.647428</td>\n",
              "      <td>0.462366</td>\n",
              "      <td>0.652174</td>\n",
              "      <td>0.777778</td>\n",
              "      <td>0.400193</td>\n",
              "      <td>0.161290</td>\n",
              "      <td>0.326087</td>\n",
              "      <td>0.777778</td>\n",
              "      <td>0.474044</td>\n",
              "      <td>0.279570</td>\n",
              "      <td>0.434783</td>\n",
              "      <td>0.666667</td>\n",
              "      <td>0.453743</td>\n",
              "      <td>0.268817</td>\n",
              "      <td>0.434783</td>\n",
              "      <td>0.722222</td>\n",
              "    </tr>\n",
              "    <tr>\n",
              "      <th>1</th>\n",
              "      <td>2jp1</td>\n",
              "      <td>MSA Transformer (Unsupervised)</td>\n",
              "      <td>0.295615</td>\n",
              "      <td>0.216667</td>\n",
              "      <td>0.300000</td>\n",
              "      <td>0.333333</td>\n",
              "      <td>0.430007</td>\n",
              "      <td>0.233333</td>\n",
              "      <td>0.366667</td>\n",
              "      <td>0.750000</td>\n",
              "      <td>0.348968</td>\n",
              "      <td>0.233333</td>\n",
              "      <td>0.300000</td>\n",
              "      <td>0.583333</td>\n",
              "      <td>0.076151</td>\n",
              "      <td>0.050000</td>\n",
              "      <td>0.066667</td>\n",
              "      <td>0.083333</td>\n",
              "    </tr>\n",
              "  </tbody>\n",
              "</table>\n",
              "</div>\n",
              "      <button class=\"colab-df-convert\" onclick=\"convertToInteractive('df-b454aa18-d62a-4b5c-9b3d-ec1db1263b59')\"\n",
              "              title=\"Convert this dataframe to an interactive table.\"\n",
              "              style=\"display:none;\">\n",
              "        \n",
              "  <svg xmlns=\"http://www.w3.org/2000/svg\" height=\"24px\"viewBox=\"0 0 24 24\"\n",
              "       width=\"24px\">\n",
              "    <path d=\"M0 0h24v24H0V0z\" fill=\"none\"/>\n",
              "    <path d=\"M18.56 5.44l.94 2.06.94-2.06 2.06-.94-2.06-.94-.94-2.06-.94 2.06-2.06.94zm-11 1L8.5 8.5l.94-2.06 2.06-.94-2.06-.94L8.5 2.5l-.94 2.06-2.06.94zm10 10l.94 2.06.94-2.06 2.06-.94-2.06-.94-.94-2.06-.94 2.06-2.06.94z\"/><path d=\"M17.41 7.96l-1.37-1.37c-.4-.4-.92-.59-1.43-.59-.52 0-1.04.2-1.43.59L10.3 9.45l-7.72 7.72c-.78.78-.78 2.05 0 2.83L4 21.41c.39.39.9.59 1.41.59.51 0 1.02-.2 1.41-.59l7.78-7.78 2.81-2.81c.8-.78.8-2.07 0-2.86zM5.41 20L4 18.59l7.72-7.72 1.47 1.35L5.41 20z\"/>\n",
              "  </svg>\n",
              "      </button>\n",
              "      \n",
              "  <style>\n",
              "    .colab-df-container {\n",
              "      display:flex;\n",
              "      flex-wrap:wrap;\n",
              "      gap: 12px;\n",
              "    }\n",
              "\n",
              "    .colab-df-convert {\n",
              "      background-color: #E8F0FE;\n",
              "      border: none;\n",
              "      border-radius: 50%;\n",
              "      cursor: pointer;\n",
              "      display: none;\n",
              "      fill: #1967D2;\n",
              "      height: 32px;\n",
              "      padding: 0 0 0 0;\n",
              "      width: 32px;\n",
              "    }\n",
              "\n",
              "    .colab-df-convert:hover {\n",
              "      background-color: #E2EBFA;\n",
              "      box-shadow: 0px 1px 2px rgba(60, 64, 67, 0.3), 0px 1px 3px 1px rgba(60, 64, 67, 0.15);\n",
              "      fill: #174EA6;\n",
              "    }\n",
              "\n",
              "    [theme=dark] .colab-df-convert {\n",
              "      background-color: #3B4455;\n",
              "      fill: #D2E3FC;\n",
              "    }\n",
              "\n",
              "    [theme=dark] .colab-df-convert:hover {\n",
              "      background-color: #434B5C;\n",
              "      box-shadow: 0px 1px 3px 1px rgba(0, 0, 0, 0.15);\n",
              "      filter: drop-shadow(0px 1px 2px rgba(0, 0, 0, 0.3));\n",
              "      fill: #FFFFFF;\n",
              "    }\n",
              "  </style>\n",
              "\n",
              "      <script>\n",
              "        const buttonEl =\n",
              "          document.querySelector('#df-b454aa18-d62a-4b5c-9b3d-ec1db1263b59 button.colab-df-convert');\n",
              "        buttonEl.style.display =\n",
              "          google.colab.kernel.accessAllowed ? 'block' : 'none';\n",
              "\n",
              "        async function convertToInteractive(key) {\n",
              "          const element = document.querySelector('#df-b454aa18-d62a-4b5c-9b3d-ec1db1263b59');\n",
              "          const dataTable =\n",
              "            await google.colab.kernel.invokeFunction('convertToInteractive',\n",
              "                                                     [key], {});\n",
              "          if (!dataTable) return;\n",
              "\n",
              "          const docLinkHtml = 'Like what you see? Visit the ' +\n",
              "            '<a target=\"_blank\" href=https://colab.research.google.com/notebooks/data_table.ipynb>data table notebook</a>'\n",
              "            + ' to learn more about interactive tables.';\n",
              "          element.innerHTML = '';\n",
              "          dataTable['output_type'] = 'display_data';\n",
              "          await google.colab.output.renderOutput(dataTable, element);\n",
              "          const docLink = document.createElement('div');\n",
              "          docLink.innerHTML = docLinkHtml;\n",
              "          element.appendChild(docLink);\n",
              "        }\n",
              "      </script>\n",
              "    </div>\n",
              "  </div>\n",
              "  "
            ]
          },
          "metadata": {}
        }
      ],
      "source": [
        "msa_transformer_predictions = {}\n",
        "msa_transformer_results = []\n",
        "for name, inputs in msas.items():\n",
        "    inputs = greedy_select(inputs, num_seqs=128) # can change this to pass more/fewer sequences\n",
        "    msa_transformer_batch_labels, msa_transformer_batch_strs, msa_transformer_batch_tokens = msa_transformer_batch_converter([inputs])\n",
        "    msa_transformer_batch_tokens = msa_transformer_batch_tokens.to(next(msa_transformer.parameters()).device)\n",
        "    msa_transformer_predictions[name] = msa_transformer.predict_contacts(msa_transformer_batch_tokens)[0].cpu()\n",
        "    metrics = {\"id\": name, \"model\": \"MSA Transformer (Unsupervised)\"}\n",
        "    metrics.update(evaluate_prediction(msa_transformer_predictions[name], contacts[name]))\n",
        "    msa_transformer_results.append(metrics)\n",
        "msa_transformer_results = pd.DataFrame(msa_transformer_results)\n",
        "display(msa_transformer_results)"
      ]
    },
    {
      "cell_type": "code",
      "execution_count": 21,
      "metadata": {
        "colab": {
          "base_uri": "https://localhost:8080/",
          "height": 528
        },
        "id": "6iPBer65nPRI",
        "outputId": "27ae06e6-153c-4010-9e78-04ce46bbbee7"
      },
      "outputs": [
        {
          "output_type": "display_data",
          "data": {
            "text/plain": [
              "<Figure size 1800x600 with 3 Axes>"
            ],
            "image/png": "[encoded data removed]"
          },
          "metadata": {}
        }
      ],
      "source": [
        "fig, axes = plt.subplots(figsize=(18, 6), ncols=3)\n",
        "for ax, name in zip(axes, PDB_IDS):\n",
        "    prediction = msa_transformer_predictions[name]\n",
        "    target = contacts[name]\n",
        "    plot_contacts_and_predictions(\n",
        "        prediction, target, ax=ax, title = lambda prec: f\"{name}: Long Range P@L: {100 * prec:0.1f}\"\n",
        "    )\n",
        "plt.show()"
      ]
    }
  ],
  "metadata": {
    "accelerator": "GPU",
    "colab": {
      "collapsed_sections": [
        "U0ukYqqzateL",
        "q1eZWXv1bxGl",
        "i7iXPaDKZ5vx",
        "rb4cDoG2ns91",
        "tV3WCbn6aXL7",
        "mqwybh2Tn_Ou",
        "lW5thQpSn0Rp",
        "cvYiSUg7n5rP",
        "WnZSlf1EoGys"
      ],
      "name": "esm_contact_prediction.ipynb",
      "provenance": []
    },
    "kernelspec": {
      "display_name": "Python 3 (ipykernel)",
      "language": "python",
      "name": "python3"
    },
    "language_info": {
      "codemirror_mode": {
        "name": "ipython",
        "version": 3
      },
      "file_extension": ".py",
      "mimetype": "text/x-python",
      "name": "python",
      "nbconvert_exporter": "python",
      "pygments_lexer": "ipython3",
      "version": "3.8.13"
    }
  },
  "nbformat": 4,
  "nbformat_minor": 0
}